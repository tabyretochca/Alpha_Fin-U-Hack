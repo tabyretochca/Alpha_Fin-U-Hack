{
 "cells": [
  {
   "cell_type": "code",
   "execution_count": 1,
   "id": "61155fe5",
   "metadata": {},
   "outputs": [],
   "source": [
    "import pandas as pd\n",
    "import numpy as np\n",
    "import seaborn as sns\n",
    "import matplotlib.pyplot as plt\n",
    "\n",
    "from catboost import CatBoostClassifier\n",
    "from sklearn.model_selection import train_test_split\n",
    "from sklearn.metrics import roc_auc_score\n",
    "\n",
    "import tqdm\n",
    "import optuna\n",
    "import warnings\n",
    "warnings.filterwarnings('ignore')"
   ]
  },
  {
   "cell_type": "code",
   "execution_count": 2,
   "id": "75f89b75",
   "metadata": {},
   "outputs": [],
   "source": [
    "train_df = pd.read_parquet(\"train_data.pqt\")\n",
    "test_df = pd.read_parquet(\"test_data.pqt\")"
   ]
  },
  {
   "cell_type": "code",
   "execution_count": 3,
   "id": "b7798797",
   "metadata": {},
   "outputs": [],
   "source": [
    "# Отобранные фичи\n",
    "features = ['start_cluster', 'okved', 'city', 'channel_code', 'balance_amt_min', 'segment', 'index_city_code',\n",
    "             'ogrn_days_end_quarter', 'sum_of_paym_1y', 'min_founderpres', 'ogrn_exist_months', 'balance_amt_max',\n",
    "             'ogrn_month', 'ogrn_days_end_month', 'max_founderpres', 'ogrn_year', 'balance_amt_avg', 'ft_registration_date',\n",
    "             'sum_deb_e_oper_3m', 'cnt_days_deb_e_oper_3m', 'sum_of_paym_2m', 'sum_of_paym_6m', 'sum_cred_h_oper_3m',\n",
    "             'cnt_days_cred_e_oper_3m', 'balance_amt_day_avg', 'sum_deb_h_oper_3m', 'cnt_cred_e_oper_1m', 'cnt_cred_e_oper_3m',\n",
    "             'sum_deb_f_oper_3m', 'sum_deb_h_oper_1m', 'cnt_days_cred_h_oper_3m', 'cnt_c_oper_1m', 'sum_deb_g_oper_3m',\n",
    "             'cnt_deb_e_oper_3m', 'cnt_b_oper_1m', 'sum_deb_e_oper_1m', 'sum_deb_d_oper_3m', 'cnt_days_cred_e_oper_1m',\n",
    "             'cnt_deb_e_oper_1m', 'cnt_deb_h_oper_3m', 'cnt_a_oper_3m', 'cnt_deb_g_oper_3m', 'sum_cred_h_oper_1m',\n",
    "             'cnt_days_deb_h_oper_3m', 'sum_a_oper_3m', 'cnt_deb_d_oper_3m', 'city_type', 'cnt_deb_f_oper_3m',\n",
    "             'cnt_c_oper_3m', 'cnt_days_cred_g_oper_3m', 'end_cluster']\n",
    "\n",
    "train_df = train_df[features]\n",
    "test_df = test_df[features[:-1]]"
   ]
  },
  {
   "cell_type": "markdown",
   "id": "e3b744c1",
   "metadata": {},
   "source": [
    "### Добавление столбца с предыдущим start_cluster для каждого месяца"
   ]
  },
  {
   "cell_type": "code",
   "execution_count": 4,
   "id": "12bfbb56",
   "metadata": {},
   "outputs": [
    {
     "data": {
      "text/html": [
       "<div>\n",
       "<style scoped>\n",
       "    .dataframe tbody tr th:only-of-type {\n",
       "        vertical-align: middle;\n",
       "    }\n",
       "\n",
       "    .dataframe tbody tr th {\n",
       "        vertical-align: top;\n",
       "    }\n",
       "\n",
       "    .dataframe thead th {\n",
       "        text-align: right;\n",
       "    }\n",
       "</style>\n",
       "<table border=\"1\" class=\"dataframe\">\n",
       "  <thead>\n",
       "    <tr style=\"text-align: right;\">\n",
       "      <th></th>\n",
       "      <th>start_cluster</th>\n",
       "      <th>okved</th>\n",
       "      <th>city</th>\n",
       "      <th>channel_code</th>\n",
       "      <th>balance_amt_min</th>\n",
       "      <th>segment</th>\n",
       "      <th>index_city_code</th>\n",
       "      <th>ogrn_days_end_quarter</th>\n",
       "      <th>sum_of_paym_1y</th>\n",
       "      <th>min_founderpres</th>\n",
       "      <th>...</th>\n",
       "      <th>sum_cred_h_oper_1m</th>\n",
       "      <th>cnt_days_deb_h_oper_3m</th>\n",
       "      <th>sum_a_oper_3m</th>\n",
       "      <th>cnt_deb_d_oper_3m</th>\n",
       "      <th>city_type</th>\n",
       "      <th>cnt_deb_f_oper_3m</th>\n",
       "      <th>cnt_c_oper_3m</th>\n",
       "      <th>cnt_days_cred_g_oper_3m</th>\n",
       "      <th>end_cluster</th>\n",
       "      <th>prev_cluster</th>\n",
       "    </tr>\n",
       "  </thead>\n",
       "  <tbody>\n",
       "    <tr>\n",
       "      <th>0</th>\n",
       "      <td>{α, γ}</td>\n",
       "      <td>okved_30</td>\n",
       "      <td>city_23</td>\n",
       "      <td>channel_code_5</td>\n",
       "      <td>1.287207</td>\n",
       "      <td>segment_1</td>\n",
       "      <td>index_city_code_39</td>\n",
       "      <td>-0.135063</td>\n",
       "      <td>0.511490</td>\n",
       "      <td>2.932560</td>\n",
       "      <td>...</td>\n",
       "      <td>1.171020</td>\n",
       "      <td>0.774354</td>\n",
       "      <td>-0.207082</td>\n",
       "      <td>0.870124</td>\n",
       "      <td>city_type_0</td>\n",
       "      <td>0.286074</td>\n",
       "      <td>0.960017</td>\n",
       "      <td>0.568681</td>\n",
       "      <td>{other}</td>\n",
       "      <td>None</td>\n",
       "    </tr>\n",
       "    <tr>\n",
       "      <th>1</th>\n",
       "      <td>{α, γ}</td>\n",
       "      <td>okved_30</td>\n",
       "      <td>city_23</td>\n",
       "      <td>channel_code_5</td>\n",
       "      <td>2.458609</td>\n",
       "      <td>segment_1</td>\n",
       "      <td>index_city_code_39</td>\n",
       "      <td>-0.135063</td>\n",
       "      <td>0.486425</td>\n",
       "      <td>2.952725</td>\n",
       "      <td>...</td>\n",
       "      <td>0.410410</td>\n",
       "      <td>0.696576</td>\n",
       "      <td>-0.207082</td>\n",
       "      <td>0.870983</td>\n",
       "      <td>city_type_0</td>\n",
       "      <td>0.286081</td>\n",
       "      <td>0.960017</td>\n",
       "      <td>0.499716</td>\n",
       "      <td>{other}</td>\n",
       "      <td>{α, γ}</td>\n",
       "    </tr>\n",
       "    <tr>\n",
       "      <th>2</th>\n",
       "      <td>{α, γ}</td>\n",
       "      <td>okved_30</td>\n",
       "      <td>city_23</td>\n",
       "      <td>channel_code_5</td>\n",
       "      <td>0.430042</td>\n",
       "      <td>segment_1</td>\n",
       "      <td>index_city_code_39</td>\n",
       "      <td>-0.135063</td>\n",
       "      <td>0.480547</td>\n",
       "      <td>2.970940</td>\n",
       "      <td>...</td>\n",
       "      <td>0.552757</td>\n",
       "      <td>0.663243</td>\n",
       "      <td>-0.207082</td>\n",
       "      <td>0.870983</td>\n",
       "      <td>city_type_0</td>\n",
       "      <td>0.286081</td>\n",
       "      <td>0.960017</td>\n",
       "      <td>0.442244</td>\n",
       "      <td>{other}</td>\n",
       "      <td>{α, γ}</td>\n",
       "    </tr>\n",
       "    <tr>\n",
       "      <th>3</th>\n",
       "      <td>{other}</td>\n",
       "      <td>okved_5</td>\n",
       "      <td>city_14</td>\n",
       "      <td>channel_code_2</td>\n",
       "      <td>-0.114040</td>\n",
       "      <td>segment_1</td>\n",
       "      <td>None</td>\n",
       "      <td>1.258747</td>\n",
       "      <td>0.052041</td>\n",
       "      <td>NaN</td>\n",
       "      <td>...</td>\n",
       "      <td>-0.171047</td>\n",
       "      <td>0.785465</td>\n",
       "      <td>-0.207082</td>\n",
       "      <td>0.878708</td>\n",
       "      <td>city_type_0</td>\n",
       "      <td>0.286074</td>\n",
       "      <td>0.960017</td>\n",
       "      <td>0.407762</td>\n",
       "      <td>{other}</td>\n",
       "      <td>None</td>\n",
       "    </tr>\n",
       "    <tr>\n",
       "      <th>4</th>\n",
       "      <td>{other}</td>\n",
       "      <td>okved_5</td>\n",
       "      <td>city_14</td>\n",
       "      <td>channel_code_2</td>\n",
       "      <td>-0.119302</td>\n",
       "      <td>segment_1</td>\n",
       "      <td>None</td>\n",
       "      <td>1.258747</td>\n",
       "      <td>0.033554</td>\n",
       "      <td>NaN</td>\n",
       "      <td>...</td>\n",
       "      <td>-0.130732</td>\n",
       "      <td>0.696576</td>\n",
       "      <td>-0.207082</td>\n",
       "      <td>0.879566</td>\n",
       "      <td>city_type_0</td>\n",
       "      <td>0.286081</td>\n",
       "      <td>0.960017</td>\n",
       "      <td>0.430750</td>\n",
       "      <td>{other}</td>\n",
       "      <td>{other}</td>\n",
       "    </tr>\n",
       "  </tbody>\n",
       "</table>\n",
       "<p>5 rows × 52 columns</p>\n",
       "</div>"
      ],
      "text/plain": [
       "  start_cluster     okved     city    channel_code  balance_amt_min  \\\n",
       "0        {α, γ}  okved_30  city_23  channel_code_5         1.287207   \n",
       "1        {α, γ}  okved_30  city_23  channel_code_5         2.458609   \n",
       "2        {α, γ}  okved_30  city_23  channel_code_5         0.430042   \n",
       "3       {other}   okved_5  city_14  channel_code_2        -0.114040   \n",
       "4       {other}   okved_5  city_14  channel_code_2        -0.119302   \n",
       "\n",
       "     segment     index_city_code  ogrn_days_end_quarter  sum_of_paym_1y  \\\n",
       "0  segment_1  index_city_code_39              -0.135063        0.511490   \n",
       "1  segment_1  index_city_code_39              -0.135063        0.486425   \n",
       "2  segment_1  index_city_code_39              -0.135063        0.480547   \n",
       "3  segment_1                None               1.258747        0.052041   \n",
       "4  segment_1                None               1.258747        0.033554   \n",
       "\n",
       "   min_founderpres  ...  sum_cred_h_oper_1m  cnt_days_deb_h_oper_3m  \\\n",
       "0         2.932560  ...            1.171020                0.774354   \n",
       "1         2.952725  ...            0.410410                0.696576   \n",
       "2         2.970940  ...            0.552757                0.663243   \n",
       "3              NaN  ...           -0.171047                0.785465   \n",
       "4              NaN  ...           -0.130732                0.696576   \n",
       "\n",
       "  sum_a_oper_3m  cnt_deb_d_oper_3m    city_type cnt_deb_f_oper_3m  \\\n",
       "0     -0.207082           0.870124  city_type_0          0.286074   \n",
       "1     -0.207082           0.870983  city_type_0          0.286081   \n",
       "2     -0.207082           0.870983  city_type_0          0.286081   \n",
       "3     -0.207082           0.878708  city_type_0          0.286074   \n",
       "4     -0.207082           0.879566  city_type_0          0.286081   \n",
       "\n",
       "   cnt_c_oper_3m  cnt_days_cred_g_oper_3m  end_cluster  prev_cluster  \n",
       "0       0.960017                 0.568681      {other}          None  \n",
       "1       0.960017                 0.499716      {other}        {α, γ}  \n",
       "2       0.960017                 0.442244      {other}        {α, γ}  \n",
       "3       0.960017                 0.407762      {other}          None  \n",
       "4       0.960017                 0.430750      {other}       {other}  \n",
       "\n",
       "[5 rows x 52 columns]"
      ]
     },
     "execution_count": 4,
     "metadata": {},
     "output_type": "execute_result"
    }
   ],
   "source": [
    "prev_cluster = train_df[\"start_cluster\"].shift()\n",
    "prev_cluster.iloc[0::3] = \"None\"\n",
    "prev_cluster_test = test_df[\"start_cluster\"].shift()\n",
    "\n",
    "train_df[\"prev_cluster\"] = prev_cluster\n",
    "test_df[\"prev_cluster\"] = prev_cluster_test.astype(\"str\")\n",
    "\n",
    "train_df.head()"
   ]
  },
  {
   "cell_type": "markdown",
   "id": "7f4587e9",
   "metadata": {},
   "source": [
    "### Модель"
   ]
  },
  {
   "cell_type": "code",
   "execution_count": 5,
   "id": "ec1bae62",
   "metadata": {},
   "outputs": [],
   "source": [
    "cat_cols = list(np.array(train_df.select_dtypes(exclude=\"float64\").columns))\n",
    "\n",
    "if \"end_cluster\" in cat_cols:\n",
    "    cat_cols.remove(\"end_cluster\")\n",
    "    \n",
    "train_df[cat_cols] = train_df[cat_cols].fillna('NA')\n",
    "train_df[cat_cols] = train_df[cat_cols].astype(\"category\")\n",
    "    \n",
    "X = train_df.copy()\n",
    "\n",
    "X_train, X_val = train_test_split(X, random_state=42, shuffle=True, test_size=0.25, stratify=X['end_cluster'])\n",
    "y_train = pd.Series(X_train['end_cluster'].values)\n",
    "new_X_train = X_train.drop(['end_cluster'], axis=1)\n",
    "y_val = pd.Series(X_val['end_cluster'].values)\n",
    "new_X_val = X_val.drop(['end_cluster'], axis=1)\n",
    "\n",
    "y = X['end_cluster']\n",
    "X = X.drop('end_cluster',axis=1)"
   ]
  },
  {
   "cell_type": "code",
   "execution_count": 10,
   "id": "65110d19",
   "metadata": {},
   "outputs": [],
   "source": [
    "CatBoostModel = CatBoostClassifier(\n",
    "        objective=\"MultiClass\",\n",
    "        iterations=1250,\n",
    "        learning_rate=0.05,\n",
    "        depth=6,\n",
    "        cat_features=cat_cols,\n",
    "        task_type=\"GPU\",\n",
    "        random_state=42,\n",
    "            )"
   ]
  },
  {
   "cell_type": "code",
   "execution_count": 11,
   "id": "e25275c7",
   "metadata": {},
   "outputs": [
    {
     "name": "stdout",
     "output_type": "stream",
     "text": [
      "0:\tlearn: 2.4341098\ttotal: 230ms\tremaining: 4m 47s\n",
      "1000:\tlearn: 0.7852500\ttotal: 1m 4s\tremaining: 16.1s\n",
      "1249:\tlearn: 0.7753461\ttotal: 1m 20s\tremaining: 0us\n"
     ]
    },
    {
     "data": {
      "text/plain": [
       "<catboost.core.CatBoostClassifier at 0x1bcf6da74f0>"
      ]
     },
     "execution_count": 11,
     "metadata": {},
     "output_type": "execute_result"
    }
   ],
   "source": [
    "CatBoostModel.fit(\n",
    "        X, y,\n",
    "        plot=False,\n",
    "        verbose=1000\n",
    "                )"
   ]
  },
  {
   "cell_type": "markdown",
   "id": "d4e81a17",
   "metadata": {},
   "source": [
    "###  Метрика"
   ]
  },
  {
   "cell_type": "code",
   "execution_count": 12,
   "id": "0389877a",
   "metadata": {},
   "outputs": [],
   "source": [
    "cluster_weights = pd.read_excel(\"cluster_weights.xlsx\").set_index(\"cluster\")\n",
    "weights_dict = cluster_weights[\"unnorm_weight\"].to_dict()\n",
    "sorted_classes = ['{other}' ,'{}', '{α, β}', '{α, γ}' ,'{α, δ}' ,'{α, ε, η}', '{α, ε, θ}',\n",
    " '{α, ε, ψ}', '{α, ε}' ,'{α, η}' ,'{α, θ}' ,'{α, λ}' ,'{α, μ}', '{α, π}',\n",
    " '{α, ψ}','{α}' ,'{λ}']\n",
    "\n",
    "sorted_weights = [weights_dict[class_] for class_ in sorted_classes]\n",
    "sorted_weights_dict = dict(zip(sorted_classes, sorted_weights))"
   ]
  },
  {
   "cell_type": "code",
   "execution_count": 13,
   "id": "7966a133",
   "metadata": {},
   "outputs": [
    {
     "data": {
      "text/plain": [
       "0.946572324963462"
      ]
     },
     "execution_count": 13,
     "metadata": {},
     "output_type": "execute_result"
    }
   ],
   "source": [
    "def weighted_roc_auc(y_true, y_pred, labels, weights_dict):\n",
    "    unnorm_weights = np.array([weights_dict[label] for label in labels])\n",
    "    weights = unnorm_weights / unnorm_weights.sum()\n",
    "    classes_roc_auc = roc_auc_score(y_true, y_pred, labels=labels,\n",
    "                                    multi_class=\"ovr\", average=None)\n",
    "    return sum(weights * classes_roc_auc)\n",
    "\n",
    "y_pred_proba = CatBoostModel.predict_proba(new_X_val)\n",
    "weighted_roc_auc(y_val, y_pred_proba, CatBoostModel.classes_, sorted_weights_dict)"
   ]
  },
  {
   "cell_type": "markdown",
   "id": "ba51314b",
   "metadata": {},
   "source": [
    "### Прогноз на тестовой выборке"
   ]
  },
  {
   "cell_type": "code",
   "execution_count": 14,
   "id": "5ba57cc2",
   "metadata": {},
   "outputs": [],
   "source": [
    "test_df = pd.read_parquet(\"test_data.pqt\")\n",
    "\n",
    "test_df[\"prev_cluster\"] = prev_cluster_test.astype(\"str\")\n",
    "\n",
    "last_m_test_df = test_df[test_df[\"date\"] == \"month_6\"]\n",
    "last_m_test_df = last_m_test_df.drop([\"id\", \"date\"], axis=1)"
   ]
  },
  {
   "cell_type": "code",
   "execution_count": 15,
   "id": "2d4b4479",
   "metadata": {},
   "outputs": [
    {
     "data": {
      "text/html": [
       "<div>\n",
       "<style scoped>\n",
       "    .dataframe tbody tr th:only-of-type {\n",
       "        vertical-align: middle;\n",
       "    }\n",
       "\n",
       "    .dataframe tbody tr th {\n",
       "        vertical-align: top;\n",
       "    }\n",
       "\n",
       "    .dataframe thead th {\n",
       "        text-align: right;\n",
       "    }\n",
       "</style>\n",
       "<table border=\"1\" class=\"dataframe\">\n",
       "  <thead>\n",
       "    <tr style=\"text-align: right;\">\n",
       "      <th></th>\n",
       "      <th>Unnamed: 0</th>\n",
       "      <th>0</th>\n",
       "    </tr>\n",
       "  </thead>\n",
       "  <tbody>\n",
       "    <tr>\n",
       "      <th>0</th>\n",
       "      <td>0</td>\n",
       "      <td>{α}</td>\n",
       "    </tr>\n",
       "    <tr>\n",
       "      <th>1</th>\n",
       "      <td>1</td>\n",
       "      <td>{α}</td>\n",
       "    </tr>\n",
       "    <tr>\n",
       "      <th>2</th>\n",
       "      <td>2</td>\n",
       "      <td>{other}</td>\n",
       "    </tr>\n",
       "    <tr>\n",
       "      <th>3</th>\n",
       "      <td>3</td>\n",
       "      <td>{α}</td>\n",
       "    </tr>\n",
       "    <tr>\n",
       "      <th>4</th>\n",
       "      <td>4</td>\n",
       "      <td>{α}</td>\n",
       "    </tr>\n",
       "    <tr>\n",
       "      <th>...</th>\n",
       "      <td>...</td>\n",
       "      <td>...</td>\n",
       "    </tr>\n",
       "    <tr>\n",
       "      <th>99995</th>\n",
       "      <td>99995</td>\n",
       "      <td>{α}</td>\n",
       "    </tr>\n",
       "    <tr>\n",
       "      <th>99996</th>\n",
       "      <td>99996</td>\n",
       "      <td>{α}</td>\n",
       "    </tr>\n",
       "    <tr>\n",
       "      <th>99997</th>\n",
       "      <td>99997</td>\n",
       "      <td>{α}</td>\n",
       "    </tr>\n",
       "    <tr>\n",
       "      <th>99998</th>\n",
       "      <td>99998</td>\n",
       "      <td>{α}</td>\n",
       "    </tr>\n",
       "    <tr>\n",
       "      <th>99999</th>\n",
       "      <td>99999</td>\n",
       "      <td>{α}</td>\n",
       "    </tr>\n",
       "  </tbody>\n",
       "</table>\n",
       "<p>100000 rows × 2 columns</p>\n",
       "</div>"
      ],
      "text/plain": [
       "       Unnamed: 0        0\n",
       "0               0      {α}\n",
       "1               1      {α}\n",
       "2               2  {other}\n",
       "3               3      {α}\n",
       "4               4      {α}\n",
       "...           ...      ...\n",
       "99995       99995      {α}\n",
       "99996       99996      {α}\n",
       "99997       99997      {α}\n",
       "99998       99998      {α}\n",
       "99999       99999      {α}\n",
       "\n",
       "[100000 rows x 2 columns]"
      ]
     },
     "execution_count": 15,
     "metadata": {},
     "output_type": "execute_result"
    }
   ],
   "source": [
    "#Загрузка предсказанного стартового кластера для шестого месяца\n",
    "month_6 = pd.read_csv('start_cluster_6_predict.csv')\n",
    "month_6"
   ]
  },
  {
   "cell_type": "code",
   "execution_count": 16,
   "id": "6a0832cc",
   "metadata": {},
   "outputs": [],
   "source": [
    "last_m_test_df[\"start_cluster\"] = list(month_6.iloc[:,1])\n",
    "last_m_test_df[cat_cols] = last_m_test_df[cat_cols].astype(\"object\")\n",
    "last_m_test_df[cat_cols] = last_m_test_df[cat_cols].fillna('NA')\n",
    "last_m_test_df[cat_cols] = last_m_test_df[cat_cols].astype(\"category\")\n",
    "last_m_test_df = last_m_test_df[new_X_train.columns]\n",
    "\n",
    "test_pred_proba = CatBoostModel.predict_proba(last_m_test_df)\n",
    "test_pred_proba_df = pd.DataFrame(test_pred_proba, columns=CatBoostModel.classes_)\n",
    "sorted_classes = sorted(test_pred_proba_df.columns.to_list())\n",
    "test_pred_proba_df = test_pred_proba_df[sorted_classes]"
   ]
  },
  {
   "cell_type": "code",
   "execution_count": 17,
   "id": "b13e6b49",
   "metadata": {},
   "outputs": [],
   "source": [
    "sample_submission_df = pd.read_csv(\"sample_submission.csv\")"
   ]
  },
  {
   "cell_type": "code",
   "execution_count": 18,
   "id": "5710519c",
   "metadata": {},
   "outputs": [
    {
     "data": {
      "text/plain": [
       "(100000, 17)"
      ]
     },
     "execution_count": 18,
     "metadata": {},
     "output_type": "execute_result"
    }
   ],
   "source": [
    "test_pred_proba_df.shape"
   ]
  },
  {
   "cell_type": "code",
   "execution_count": 19,
   "id": "ffce87cf",
   "metadata": {},
   "outputs": [],
   "source": [
    "sample_submission_df[sorted_classes] = test_pred_proba_df\n",
    "sample_submission_df.to_csv(\"submission_new.csv\", index=False)"
   ]
  }
 ],
 "metadata": {
  "kernelspec": {
   "display_name": "GPU",
   "language": "python",
   "name": "gpu_1"
  },
  "language_info": {
   "codemirror_mode": {
    "name": "ipython",
    "version": 3
   },
   "file_extension": ".py",
   "mimetype": "text/x-python",
   "name": "python",
   "nbconvert_exporter": "python",
   "pygments_lexer": "ipython3",
   "version": "3.9.19"
  }
 },
 "nbformat": 4,
 "nbformat_minor": 5
}
